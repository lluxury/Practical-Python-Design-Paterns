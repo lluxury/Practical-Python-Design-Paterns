{
 "cells": [
  {
   "cell_type": "markdown",
   "id": "044e16fb",
   "metadata": {},
   "source": [
    "### 原型DEMO\n",
    "用途, 目前发现记录日志很好用"
   ]
  },
  {
   "cell_type": "code",
   "execution_count": 1,
   "id": "9ee0addd",
   "metadata": {},
   "outputs": [],
   "source": [
    "# singleton.py demo\n",
    "class SingletonObject(object):\n",
    "    class __SingletonObject():\n",
    "        def __init__(self):\n",
    "            self.val = None\n",
    "\n",
    "        def __str__(self):\n",
    "            return \"{0!r} {1}\".format(self, self.val)\n",
    "\n",
    "    instance = None\n",
    "\n",
    "    def __new__(cls):\n",
    "        if not SingletonObject.instance:\n",
    "            SingletonObject.instance = SingletonObject.__SingletonObject()\n",
    "\n",
    "        return SingletonObject.instance\n",
    "\n",
    "    def __getattr__(self, name):\n",
    "        return getattr(self.instance, name)\n",
    "\n",
    "    def __setattr__(self, name):\n",
    "        return setattr(self.instance, name)"
   ]
  },
  {
   "cell_type": "markdown",
   "id": "4fee3200",
   "metadata": {},
   "source": [
    "###### 分析\n",
    "\n",
    "嵌套类设计:  \n",
    "外层SingletonObject是代理类  \n",
    "内层__SingletonObject是实际实现类（双下划线表示私有类） \n",
    "通过instance类变量持有唯一实例  \n",
    "\n",
    "关键方法： \n",
    "__new__：控制实例化过程，确保只创建一个实例  \n",
    "__getattr__/__setattr__：将所有操作委托给内部实例  \n",
    "__str__：定义实例的字符串表示形式  \n",
    "\n",
    "实现特点：  \n",
    "线程不安全的经典实现  \n",
    "通过重写__new__方法实现单例  \n",
    "使用属性委托模式  "
   ]
  },
  {
   "cell_type": "markdown",
   "id": "d79f5b7a",
   "metadata": {},
   "source": [
    "最基础的语句, 打开文件写内容:\n",
    "~~~python\n",
    "with open(\"filename.log\", \"a\") as log_file:\n",
    "    log_file.write(\"Log message goes here.\\n\")\n",
    "~~~"
   ]
  },
  {
   "cell_type": "markdown",
   "id": "34913377",
   "metadata": {},
   "source": [
    "模块化\n",
    "直接导入后使用, logger.log_message()\n",
    "logger.py\n",
    "~~~python\n",
    "def log_message(msg):\n",
    "    with open(\"/var/log/filename.log\", \"a\") as log_file:\n",
    "        log_file.write(\"{0}\\n\".format(msg))\n",
    "~~~\n",
    "\n",
    "main.py\n",
    "~~~python\n",
    "import logger\n",
    "\n",
    "for i in range(4):\n",
    "    logger.log_message(\"log message {}\".format(i))\n",
    "~~~"
   ]
  }
 ],
 "metadata": {
  "kernelspec": {
   "display_name": "Python 3",
   "language": "python",
   "name": "python3"
  },
  "language_info": {
   "codemirror_mode": {
    "name": "ipython",
    "version": 3
   },
   "file_extension": ".py",
   "mimetype": "text/x-python",
   "name": "python",
   "nbconvert_exporter": "python",
   "pygments_lexer": "ipython3",
   "version": "3.13.5"
  }
 },
 "nbformat": 4,
 "nbformat_minor": 5
}
